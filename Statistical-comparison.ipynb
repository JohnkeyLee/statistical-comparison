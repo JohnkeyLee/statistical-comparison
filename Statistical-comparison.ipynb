{
 "cells": [
  {
   "cell_type": "code",
   "execution_count": null,
   "metadata": {},
   "outputs": [],
   "source": [
    "import pandas as pd\n",
    "\n",
    "# Load the dataset from Excel file\n",
    "data = pd.read_excel('~.xlsx')\n",
    "\n",
    "# Extract the columns of interest\n",
    "column1 = data['SA-T']\n",
    "column2 = data['ZN-T']"
   ]
  },
  {
   "cell_type": "code",
   "execution_count": null,
   "metadata": {},
   "outputs": [],
   "source": [
    "print(column1.describe())\n",
    "print('\\n', column2.describe())"
   ]
  },
  {
   "cell_type": "code",
   "execution_count": null,
   "metadata": {},
   "outputs": [],
   "source": [
    "import numpy as np\n",
    "from scipy.stats import shapiro\n",
    "\n",
    "\n",
    "# Perform the Shapiro-Wilk test\n",
    "stat1, p1 = shapiro(column1)\n",
    "stat2, p2 = shapiro(column2)\n",
    "\n",
    "# Print the test statistic and p-value\n",
    "print('Shapiro-Wilk Test statistic=%.3f, p-value=%.3f' % (stat1, p1))\n",
    "\n",
    "# Interpret the results\n",
    "alpha = 0.05\n",
    "if p1 > alpha:\n",
    "    print('Data follows a normal distribution (fail to reject H0)')\n",
    "else:\n",
    "    print('Data does not follow a normal distribution (reject H0)')\n",
    "\n",
    "\n",
    "print('\\n Shapiro-Wilk Test statistic=%.3f, p-value=%.3f' % (stat2, p2))\n",
    "\n",
    "# Interpret the results\n",
    "alpha = 0.05\n",
    "if p2 > alpha:\n",
    "    print('Data follows a normal distribution (fail to reject H0)')\n",
    "else:\n",
    "    print('Data does not follow a normal distribution (reject H0)')"
   ]
  },
  {
   "cell_type": "code",
   "execution_count": null,
   "metadata": {},
   "outputs": [],
   "source": [
    "from scipy.stats import jarque_bera\n",
    "\n",
    "# Perform the Shapiro-Wilk test\n",
    "stat1, p1 = jarque_bera(column1)\n",
    "stat2, p2 = jarque_bera(column2)\n",
    "\n",
    "# Print the test statistic and p-value\n",
    "print('Jarque-Bera Test statistic=%.3f, p-value=%.3f' % (stat1, p1))\n",
    "\n",
    "# Interpret the results\n",
    "alpha = 0.05\n",
    "if p1 > alpha:\n",
    "    print('Data appears to be normally distributed (fail to reject H0)')\n",
    "else:\n",
    "    print('Data does not appear to be normally distributed (reject H0)')\n",
    "\n",
    "\n",
    "# Print the test statistic and p-value\n",
    "print('\\n Jarque-Bera Test statistic=%.3f, p-value=%.3f' % (stat2, p2))\n",
    "\n",
    "# Interpret the results\n",
    "alpha = 0.05\n",
    "if p2 > alpha:\n",
    "    print('Data appears to be normally distributed (fail to reject H0)')\n",
    "else:\n",
    "    print('Data does not appear to be normally distributed (reject H0)')"
   ]
  },
  {
   "cell_type": "code",
   "execution_count": null,
   "metadata": {},
   "outputs": [],
   "source": [
    "import statsmodels.api as sm\n",
    "import matplotlib.pyplot as plt\n",
    "\n",
    "# Create Q-Q plot\n",
    "fig = sm.qqplot(column1, line='45')  # '45' adds a line y=x for reference\n",
    "plt.title('Q-Q Plot')\n",
    "plt.show()\n",
    "\n",
    "# Create Q-Q plot\n",
    "fig = sm.qqplot(column2, line='45')  # '45' adds a line y=x for reference\n",
    "plt.title('Q-Q Plot')\n",
    "plt.show()"
   ]
  },
  {
   "cell_type": "code",
   "execution_count": null,
   "metadata": {},
   "outputs": [],
   "source": [
    "from scipy.stats import ttest_ind\n",
    "\n",
    "# Perform the Student's t-test\n",
    "stat1, p1 = ttest_ind(column1, column2, nan_policy='omit')\n",
    "\n",
    "# Print the test statistic and p-value\n",
    "print('t-Test statistic=%.3f, p-value=%.3f' % (stat1, p1))\n",
    "\n",
    "# Interpret the results\n",
    "alpha = 0.05\n",
    "if p1 > alpha:\n",
    "    print('No significant difference in the means (fail to reject H0)')\n",
    "else:\n",
    "    print('Significant difference in the means (reject H0)')"
   ]
  },
  {
   "cell_type": "code",
   "execution_count": null,
   "metadata": {},
   "outputs": [],
   "source": [
    "from scipy.stats import mannwhitneyu\n",
    "stat11, p11 = mannwhitneyu(column1, column2, nan_policy='omit')\n",
    "\n",
    "# Print the results\n",
    "print('\\n mannwhitneyuStatistics=%.3f, p=%.3f' % (stat11, p11))\n",
    "\n",
    "# Interpretation\n",
    "alpha = 0.05\n",
    "if p11 > alpha:\n",
    "    print('Same distribution (fail to reject H0)')\n",
    "else:\n",
    "    print('Different distribution (reject H0)')"
   ]
  },
  {
   "cell_type": "code",
   "execution_count": null,
   "metadata": {},
   "outputs": [],
   "source": [
    "from scipy.stats import wilcoxon\n",
    "\n",
    "# Perform the Wilcoxon Signed-Rank Test\n",
    "stat11, p11 = wilcoxon(column1, column2)\n",
    "\n",
    "# Print the results\n",
    "print('\\n Statistics=%.3f, p=%.3f' % (stat11, p11))\n",
    "\n",
    "# Interpretation\n",
    "alpha = 0.05\n",
    "if p11 > alpha:\n",
    "    print('Same distribution (fail to reject H0)')\n",
    "else:\n",
    "    print('Different distribution (reject H0)')"
   ]
  },
  {
   "cell_type": "code",
   "execution_count": null,
   "metadata": {},
   "outputs": [],
   "source": [
    "from scipy.stats import ranksums\n",
    "\n",
    "# Perform the Wilcoxon Rank-sum Test\n",
    "stat11, p11 = ranksums(column1, column2)\n",
    "\n",
    "# Print the results\n",
    "print('\\n Statistics=%.3f, p=%.3f' % (stat11, p11))\n",
    "\n",
    "# Interpretation\n",
    "alpha = 0.05\n",
    "if p11 > alpha:\n",
    "    print('Same distribution (fail to reject H0)')\n",
    "else:\n",
    "    print('Different distribution (reject H0)')\n"
   ]
  }
 ],
 "metadata": {
  "kernelspec": {
   "display_name": "Python 3",
   "language": "python",
   "name": "python3"
  },
  "language_info": {
   "codemirror_mode": {
    "name": "ipython",
    "version": 3
   },
   "file_extension": ".py",
   "mimetype": "text/x-python",
   "name": "python",
   "nbconvert_exporter": "python",
   "pygments_lexer": "ipython3",
   "version": "3.9.5"
  }
 },
 "nbformat": 4,
 "nbformat_minor": 2
}
